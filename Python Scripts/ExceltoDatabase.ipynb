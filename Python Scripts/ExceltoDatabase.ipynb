{
 "cells": [
  {
   "cell_type": "code",
   "execution_count": 1,
   "id": "2b73db12",
   "metadata": {
    "ExecuteTime": {
     "end_time": "2023-05-01T13:59:33.743645Z",
     "start_time": "2023-05-01T13:59:33.215530Z"
    }
   },
   "outputs": [],
   "source": [
    "import pandas as pd\n",
    "import mysql.connector\n",
    "import datetime"
   ]
  },
  {
   "cell_type": "markdown",
   "id": "bc42c2a0",
   "metadata": {
    "heading_collapsed": true
   },
   "source": [
    "### daily_useage"
   ]
  },
  {
   "cell_type": "markdown",
   "id": "ac4e2985",
   "metadata": {
    "hidden": true
   },
   "source": [
    "Read in the excel file and take the needed sheet"
   ]
  },
  {
   "cell_type": "code",
   "execution_count": 7,
   "id": "643e7092",
   "metadata": {
    "ExecuteTime": {
     "end_time": "2023-05-01T13:30:43.177169Z",
     "start_time": "2023-05-01T13:30:42.517767Z"
    },
    "hidden": true
   },
   "outputs": [],
   "source": [
    "xls = pd.ExcelFile('Electrical_Usage.xlsx')\n",
    "df = pd.read_excel(xls, 'Daily')"
   ]
  },
  {
   "cell_type": "code",
   "execution_count": 8,
   "id": "cce78cc1",
   "metadata": {
    "ExecuteTime": {
     "end_time": "2023-05-01T13:30:44.223005Z",
     "start_time": "2023-05-01T13:30:44.217005Z"
    },
    "hidden": true
   },
   "outputs": [],
   "source": [
    "date=df['Date']\n",
    "df_register=df['Register']\n",
    "df_value=df['Volume']"
   ]
  },
  {
   "cell_type": "markdown",
   "id": "f2b8ea1d",
   "metadata": {
    "hidden": true
   },
   "source": [
    "Make connection to sql database"
   ]
  },
  {
   "cell_type": "code",
   "execution_count": 4,
   "id": "0acb8bb1",
   "metadata": {
    "ExecuteTime": {
     "end_time": "2023-03-06T20:12:58.628224Z",
     "start_time": "2023-03-06T20:12:58.364303Z"
    },
    "hidden": true
   },
   "outputs": [
    {
     "name": "stdout",
     "output_type": "stream",
     "text": [
      "<mysql.connector.connection_cext.CMySQLConnection object at 0x000002044FDDFB20>\n"
     ]
    }
   ],
   "source": [
    "mydb = mysql.connector.connect(\n",
    "  host=\"ID328605_energy.db.webhosting.be\",\n",
    "  user=\"ID328605_energy\",\n",
    "  password=\"energy123\",\n",
    "  database=\"ID328605_energy\"\n",
    ")\n",
    "mycursor = mydb.cursor()\n",
    "print(mydb)"
   ]
  },
  {
   "cell_type": "markdown",
   "id": "91009705",
   "metadata": {
    "hidden": true
   },
   "source": [
    "Loop through each row in df, attaching the necessary data to variables, make the sql query, insert variables into query, increment the index"
   ]
  },
  {
   "cell_type": "code",
   "execution_count": 5,
   "id": "61b7a87b",
   "metadata": {
    "ExecuteTime": {
     "end_time": "2023-03-06T20:13:23.607958Z",
     "start_time": "2023-03-06T20:12:59.973924Z"
    },
    "hidden": true
   },
   "outputs": [],
   "source": [
    "index=0\n",
    "for x in range(len(df)):\n",
    "    row = df.loc[index]\n",
    "    date=row['Date']\n",
    "    register = row['Register']\n",
    "    value=row['Volume']\n",
    "    sql = \"INSERT INTO daily_useage (date, register, value) VALUES (%s, %s, %s)\"\n",
    "    val = (datetime.date(date),register,value)\n",
    "    mycursor.execute(sql, val)\n",
    "\n",
    "    mydb.commit()\n",
    "    #print(mycursor.rowcount, \"record inserted.\")\n",
    "    #print(index,datetime.date(date),register,value)\n",
    "    index=index+1"
   ]
  },
  {
   "cell_type": "markdown",
   "id": "18cad00f",
   "metadata": {
    "heading_collapsed": true
   },
   "source": [
    "### daily_solar"
   ]
  },
  {
   "cell_type": "code",
   "execution_count": 7,
   "id": "d8413ec2",
   "metadata": {
    "ExecuteTime": {
     "end_time": "2023-05-01T14:04:49.344780Z",
     "start_time": "2023-05-01T14:04:48.848391Z"
    },
    "hidden": true
   },
   "outputs": [],
   "source": [
    "solar_xls = pd.ExcelFile('solar_readings2.xlsx')\n",
    "solar_df = pd.read_excel(solar_xls,\"solar_readings\")\n",
    "#solar_df['Date']=solar_df['Date'].astype('datetime64[ns]')\n",
    "solar_df"
   ]
  },
  {
   "cell_type": "code",
   "execution_count": 9,
   "id": "25b09f60",
   "metadata": {
    "ExecuteTime": {
     "end_time": "2023-05-01T14:05:33.348468Z",
     "start_time": "2023-05-01T14:05:33.336098Z"
    },
    "hidden": true
   },
   "outputs": [],
   "source": [
    "solar_date=solar_df['Date']\n",
    "solar_output=solar_df['Output']"
   ]
  },
  {
   "cell_type": "code",
   "execution_count": 11,
   "id": "a6648004",
   "metadata": {
    "ExecuteTime": {
     "end_time": "2023-05-01T14:05:39.905387Z",
     "start_time": "2023-05-01T14:05:39.676283Z"
    },
    "hidden": true
   },
   "outputs": [
    {
     "name": "stdout",
     "output_type": "stream",
     "text": [
      "<mysql.connector.connection_cext.CMySQLConnection object at 0x00000219F1217A60>\n"
     ]
    }
   ],
   "source": [
    "mydb = mysql.connector.connect(\n",
    "  host=\"ID328605_energy.db.webhosting.be\",\n",
    "  user=\"ID328605_energy\",\n",
    "  password=\"energy123\",\n",
    "  database=\"ID328605_energy\"\n",
    ")\n",
    "mycursor = mydb.cursor()\n",
    "print(mydb)"
   ]
  },
  {
   "cell_type": "code",
   "execution_count": 12,
   "id": "7593dd14",
   "metadata": {
    "ExecuteTime": {
     "end_time": "2023-05-01T14:07:36.610300Z",
     "start_time": "2023-05-01T14:07:28.414088Z"
    },
    "hidden": true
   },
   "outputs": [],
   "source": [
    "index=0\n",
    "for x in range(len(solar_df)):\n",
    "    row = solar_df.loc[index]\n",
    "    date=row['Date']\n",
    "    output=row['Output']\n",
    "    sql = \"INSERT INTO daily_solar (date,output) VALUES (%s, %s)\"\n",
    "    val = (date,output)\n",
    "    mycursor.execute(sql, val)\n",
    "\n",
    "    mydb.commit()\n",
    "    #print(mycursor.rowcount, \"record inserted.\")\n",
    "    #print(index,date,output)\n",
    "    index=index+1"
   ]
  },
  {
   "cell_type": "code",
   "execution_count": null,
   "id": "8624b803",
   "metadata": {
    "hidden": true
   },
   "outputs": [],
   "source": []
  }
 ],
 "metadata": {
  "kernelspec": {
   "display_name": "Python 3",
   "language": "python",
   "name": "python3"
  },
  "language_info": {
   "codemirror_mode": {
    "name": "ipython",
    "version": 3
   },
   "file_extension": ".py",
   "mimetype": "text/x-python",
   "name": "python",
   "nbconvert_exporter": "python",
   "pygments_lexer": "ipython3",
   "version": "3.8.8"
  }
 },
 "nbformat": 4,
 "nbformat_minor": 5
}
