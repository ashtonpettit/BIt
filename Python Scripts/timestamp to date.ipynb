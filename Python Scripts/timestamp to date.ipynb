{
 "cells": [
  {
   "cell_type": "code",
   "execution_count": null,
   "id": "1aa03c4d",
   "metadata": {},
   "outputs": [],
   "source": [
    "230501174856"
   ]
  },
  {
   "cell_type": "code",
   "execution_count": 3,
   "id": "11c4de01",
   "metadata": {
    "ExecuteTime": {
     "end_time": "2023-05-01T19:28:31.463960Z",
     "start_time": "2023-05-01T19:28:31.456748Z"
    }
   },
   "outputs": [],
   "source": [
    "from datetime import datetime"
   ]
  },
  {
   "cell_type": "code",
   "execution_count": 10,
   "id": "f6252b96",
   "metadata": {
    "ExecuteTime": {
     "end_time": "2023-05-01T19:32:15.751734Z",
     "start_time": "2023-05-01T19:32:15.732929Z"
    }
   },
   "outputs": [],
   "source": [
    "dt_str=\"230501174856\"\n",
    "dt_obj=datetime.strptime(dt_str,'%y%m%d%H%M%S')"
   ]
  },
  {
   "cell_type": "code",
   "execution_count": 28,
   "id": "55c9985e",
   "metadata": {
    "ExecuteTime": {
     "end_time": "2023-05-01T19:48:18.415820Z",
     "start_time": "2023-05-01T19:48:18.399081Z"
    }
   },
   "outputs": [
    {
     "name": "stdout",
     "output_type": "stream",
     "text": [
      "2023-05-01\n",
      "17:48:56\n"
     ]
    }
   ],
   "source": [
    "datee=dt_obj.date()\n",
    "timee=dt_obj.time()\n",
    "print(datee)\n",
    "print(timee)"
   ]
  }
 ],
 "metadata": {
  "kernelspec": {
   "display_name": "Python 3",
   "language": "python",
   "name": "python3"
  },
  "language_info": {
   "codemirror_mode": {
    "name": "ipython",
    "version": 3
   },
   "file_extension": ".py",
   "mimetype": "text/x-python",
   "name": "python",
   "nbconvert_exporter": "python",
   "pygments_lexer": "ipython3",
   "version": "3.8.8"
  }
 },
 "nbformat": 4,
 "nbformat_minor": 5
}
